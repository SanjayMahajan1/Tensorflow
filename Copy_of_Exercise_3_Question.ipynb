{
  "nbformat": 4,
  "nbformat_minor": 0,
  "metadata": {
    "colab": {
      "name": "Copy of Exercise 3 - Question.ipynb",
      "version": "0.3.2",
      "provenance": [],
      "collapsed_sections": [],
      "include_colab_link": true
    },
    "kernelspec": {
      "name": "python3",
      "display_name": "Python 3"
    }
  },
  "cells": [
    {
      "cell_type": "markdown",
      "metadata": {
        "id": "view-in-github",
        "colab_type": "text"
      },
      "source": [
        "<a href=\"https://colab.research.google.com/github/SanjayMahajan1/Tensorflow/blob/master/Copy_of_Exercise_3_Question.ipynb\" target=\"_parent\"><img src=\"https://colab.research.google.com/assets/colab-badge.svg\" alt=\"Open In Colab\"/></a>"
      ]
    },
    {
      "cell_type": "markdown",
      "metadata": {
        "id": "iQjHqsmTAVLU",
        "colab_type": "text"
      },
      "source": [
        "## Exercise 3\n",
        "In the videos you looked at how you would improve Fashion MNIST using Convolutions. For your exercise see if you can improve MNIST to 99.8% accuracy or more using only a single convolutional layer and a single MaxPooling 2D. You should stop training once the accuracy goes above this amount. It should happen in less than 20 epochs, so it's ok to hard code the number of epochs for training, but your training must end once it hits the above metric. If it doesn't, then you'll need to redesign your layers.\n",
        "\n",
        "I've started the code for you -- you need to finish it!\n",
        "\n",
        "When 99.8% accuracy has been hit, you should print out the string \"Reached 99.8% accuracy so cancelling training!\"\n"
      ]
    },
    {
      "cell_type": "code",
      "metadata": {
        "id": "sfQRyaJWAIdg",
        "colab_type": "code",
        "outputId": "accd04fc-10fa-4ad1-f6cc-17e2b8406384",
        "colab": {
          "base_uri": "https://localhost:8080/",
          "height": 561
        }
      },
      "source": [
        "import tensorflow as tf\n",
        "\n",
        "# YOUR CODE STARTS HERE\n",
        "class myCallback(tf.keras.callbacks.Callback):\n",
        "  def on_epoch_end(self, epoch, logs={}):\n",
        "    if (logs.get('acc') > 0.998):\n",
        "      print(\"\\nReached 99.8% accuracy so cancelling training!\")\n",
        "      self.model.stop_training = True\n",
        "callbacks = myCallback()\n",
        "\n",
        "# YOUR CODE ENDS HERE\n",
        "\n",
        "mnist = tf.keras.datasets.mnist\n",
        "(training_images, training_labels), (test_images, test_labels) = mnist.load_data()\n",
        "\n",
        "# YOUR CODE STARTS HERE\n",
        "training_images = training_images.reshape(60000, 28, 28, 1)\n",
        "training_images = training_images / 255.0\n",
        "test_images = test_images.reshape(10000, 28, 28, 1)\n",
        "test_images = test_images / 255.0\n",
        "# YOUR CODE ENDS HERE\n",
        "\n",
        "model = tf.keras.models.Sequential([\n",
        "    # YOUR CODE STARTS HERE\n",
        "  tf.keras.layers.Conv2D(32, (3, 3), activation='relu', input_shape=(28, 28, 1)),\n",
        "  tf.keras.layers.MaxPooling2D(2, 2),\n",
        "  tf.keras.layers.Conv2D(16, (3, 3), activation='relu'),\n",
        "  tf.keras.layers.MaxPooling2D(2, 2),\n",
        "  tf.keras.layers.Flatten(),\n",
        "  tf.keras.layers.Dense(128, activation='relu'),\n",
        "  tf.keras.layers.Dense(10, activation='softmax')\n",
        "    # YOUR CODE ENDS HERE\n",
        "])\n",
        "\n",
        "# YOUR CODE STARTS HERE\n",
        "model.compile(optimizer='adam', loss='sparse_categorical_crossentropy', metrics=['accuracy'])\n",
        "# model fitting\n",
        "history = model.fit(training_images, training_labels, epochs=20, callbacks=[callbacks])\n",
        "# YOUR CODE ENDS HERE\n",
        "\n"
      ],
      "execution_count": 0,
      "outputs": [
        {
          "output_type": "stream",
          "text": [
            "Epoch 1/20\n",
            "60000/60000 [==============================] - 40s 669us/sample - loss: 0.1662 - acc: 0.9503\n",
            "Epoch 2/20\n",
            "60000/60000 [==============================] - 40s 665us/sample - loss: 0.0535 - acc: 0.9832\n",
            "Epoch 3/20\n",
            "60000/60000 [==============================] - 40s 664us/sample - loss: 0.0363 - acc: 0.9888\n",
            "Epoch 4/20\n",
            "60000/60000 [==============================] - 40s 665us/sample - loss: 0.0276 - acc: 0.9911\n",
            "Epoch 5/20\n",
            "60000/60000 [==============================] - 40s 663us/sample - loss: 0.0222 - acc: 0.9928\n",
            "Epoch 6/20\n",
            "60000/60000 [==============================] - 40s 658us/sample - loss: 0.0181 - acc: 0.9939\n",
            "Epoch 7/20\n",
            "60000/60000 [==============================] - 39s 652us/sample - loss: 0.0152 - acc: 0.9950\n",
            "Epoch 8/20\n",
            "60000/60000 [==============================] - 39s 655us/sample - loss: 0.0122 - acc: 0.9956\n",
            "Epoch 9/20\n",
            "60000/60000 [==============================] - 39s 654us/sample - loss: 0.0103 - acc: 0.9968\n",
            "Epoch 10/20\n",
            "60000/60000 [==============================] - 40s 667us/sample - loss: 0.0100 - acc: 0.9969\n",
            "Epoch 11/20\n",
            "60000/60000 [==============================] - 39s 658us/sample - loss: 0.0081 - acc: 0.9972\n",
            "Epoch 12/20\n",
            "60000/60000 [==============================] - 40s 670us/sample - loss: 0.0079 - acc: 0.9974\n",
            "Epoch 13/20\n",
            "60000/60000 [==============================] - 40s 662us/sample - loss: 0.0066 - acc: 0.9978\n",
            "Epoch 14/20\n",
            "60000/60000 [==============================] - 39s 646us/sample - loss: 0.0064 - acc: 0.9977\n",
            "Epoch 15/20\n",
            "59936/60000 [============================>.] - ETA: 0s - loss: 0.0056 - acc: 0.9982\n",
            "Reached 99.8% accuracy so cancelling training!\n",
            "60000/60000 [==============================] - 39s 653us/sample - loss: 0.0056 - acc: 0.9982\n"
          ],
          "name": "stdout"
        }
      ]
    }
  ]
}