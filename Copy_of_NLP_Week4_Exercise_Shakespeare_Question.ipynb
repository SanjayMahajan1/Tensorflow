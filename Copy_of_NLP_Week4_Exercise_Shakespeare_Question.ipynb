{
  "nbformat": 4,
  "nbformat_minor": 0,
  "metadata": {
    "colab": {
      "name": "Copy of NLP-Week4-Exercise-Shakespeare-Question.ipynb",
      "version": "0.3.2",
      "provenance": [],
      "include_colab_link": true
    },
    "kernelspec": {
      "name": "python2",
      "display_name": "Python 2"
    },
    "accelerator": "GPU"
  },
  "cells": [
    {
      "cell_type": "markdown",
      "metadata": {
        "id": "view-in-github",
        "colab_type": "text"
      },
      "source": [
        "<a href=\"https://colab.research.google.com/github/SanjayMahajan1/Tensorflow/blob/master/Copy_of_NLP_Week4_Exercise_Shakespeare_Question.ipynb\" target=\"_parent\"><img src=\"https://colab.research.google.com/assets/colab-badge.svg\" alt=\"Open In Colab\"/></a>"
      ]
    },
    {
      "cell_type": "code",
      "metadata": {
        "id": "BOwsuGQQY9OL",
        "colab_type": "code",
        "colab": {}
      },
      "source": [
        "from tensorflow.keras.preprocessing.sequence import pad_sequences\n",
        "from tensorflow.keras.layers import Embedding, LSTM, Dense, Dropout, Bidirectional\n",
        "from tensorflow.keras.preprocessing.text import Tokenizer\n",
        "from tensorflow.keras.models import Sequential\n",
        "from tensorflow.keras.optimizers import Adam\n",
        "from tensorflow.keras import regularizers\n",
        "# Figure out how to import regularizers\n",
        "###\n",
        "import tensorflow.keras.utils as ku \n",
        "import numpy as np "
      ],
      "execution_count": 0,
      "outputs": []
    },
    {
      "cell_type": "code",
      "metadata": {
        "colab_type": "code",
        "id": "PRnDnCW-Z7qv",
        "outputId": "df9c9907-285e-4498-8bea-0ed0fcf05246",
        "colab": {
          "base_uri": "https://localhost:8080/",
          "height": 204
        }
      },
      "source": [
        "tokenizer = Tokenizer()\n",
        "!wget --no-check-certificate \\\n",
        "    https://storage.googleapis.com/laurencemoroney-blog.appspot.com/sonnets.txt \\\n",
        "    -O /tmp/sonnets.txt\n",
        "data = open('/tmp/sonnets.txt').read()\n",
        "\n",
        "corpus = data.lower().split(\"\\n\")\n",
        "\n",
        "\n",
        "tokenizer.fit_on_texts(corpus)\n",
        "total_words = len(tokenizer.word_index) + 1\n",
        "\n",
        "# create input sequences using list of tokens\n",
        "input_sequences = []\n",
        "for line in corpus:\n",
        "\ttoken_list = tokenizer.texts_to_sequences([line])[0]\n",
        "\tfor i in range(1, len(token_list)):\n",
        "\t\tn_gram_sequence = token_list[:i+1]\n",
        "\t\tinput_sequences.append(n_gram_sequence)\n",
        "\n",
        "\n",
        "# pad sequences \n",
        "max_sequence_len = max([len(x) for x in input_sequences])\n",
        "input_sequences = np.array(pad_sequences(input_sequences, maxlen=max_sequence_len, padding='pre'))\n",
        "\n",
        "# create predictors and label\n",
        "predictors, label = input_sequences[:,:-1],input_sequences[:,-1]\n",
        "\n",
        "label = ku.to_categorical(label, num_classes=total_words)"
      ],
      "execution_count": 0,
      "outputs": [
        {
          "output_type": "stream",
          "text": [
            "--2019-08-15 14:10:09--  https://storage.googleapis.com/laurencemoroney-blog.appspot.com/sonnets.txt\n",
            "Resolving storage.googleapis.com (storage.googleapis.com)... 74.125.126.128, 2607:f8b0:4001:c05::80\n",
            "Connecting to storage.googleapis.com (storage.googleapis.com)|74.125.126.128|:443... connected.\n",
            "HTTP request sent, awaiting response... 200 OK\n",
            "Length: 93578 (91K) [text/plain]\n",
            "Saving to: ‘/tmp/sonnets.txt’\n",
            "\n",
            "\r/tmp/sonnets.txt      0%[                    ]       0  --.-KB/s               \r/tmp/sonnets.txt    100%[===================>]  91.38K  --.-KB/s    in 0.001s  \n",
            "\n",
            "2019-08-15 14:10:09 (120 MB/s) - ‘/tmp/sonnets.txt’ saved [93578/93578]\n",
            "\n"
          ],
          "name": "stdout"
        }
      ]
    },
    {
      "cell_type": "code",
      "metadata": {
        "id": "w9vH8Y59ajYL",
        "colab_type": "code",
        "outputId": "c12ba34e-c125-47bf-f393-87d02d020a23",
        "colab": {
          "base_uri": "https://localhost:8080/",
          "height": 374
        }
      },
      "source": [
        "model = Sequential()\n",
        "model.add(Embedding(total_words, 64, input_length=max_sequence_len-1))\n",
        "model.add(Bidirectional(LSTM(20,return_sequences=True)))\n",
        "model.add(Dropout(0.2))\n",
        "model.add(LSTM(20))\n",
        "model.add(Dense(total_words,kernel_regularizer=regularizers.l2(0.01)))\n",
        "model.add(Dense(total_words,activation='softmax'))\n",
        "# Pick an optimizer\n",
        "model.compile(loss='categorical_crossentropy',optimizer='adam',metrics=['accuracy'])\n",
        "print(model.summary())\n"
      ],
      "execution_count": 0,
      "outputs": [
        {
          "output_type": "stream",
          "text": [
            "Model: \"sequential_3\"\n",
            "_________________________________________________________________\n",
            "Layer (type)                 Output Shape              Param #   \n",
            "=================================================================\n",
            "embedding_2 (Embedding)      (None, 10, 64)            205504    \n",
            "_________________________________________________________________\n",
            "bidirectional_3 (Bidirection (None, 10, 40)            13600     \n",
            "_________________________________________________________________\n",
            "dropout_1 (Dropout)          (None, 10, 40)            0         \n",
            "_________________________________________________________________\n",
            "lstm_4 (LSTM)                (None, 20)                4880      \n",
            "_________________________________________________________________\n",
            "dense (Dense)                (None, 3211)              67431     \n",
            "_________________________________________________________________\n",
            "dense_1 (Dense)              (None, 3211)              10313732  \n",
            "=================================================================\n",
            "Total params: 10,605,147\n",
            "Trainable params: 10,605,147\n",
            "Non-trainable params: 0\n",
            "_________________________________________________________________\n",
            "None\n"
          ],
          "name": "stdout"
        }
      ]
    },
    {
      "cell_type": "code",
      "metadata": {
        "id": "AIg2f1HBxqof",
        "colab_type": "code",
        "outputId": "b40f9154-e599-4e9e-a3e1-cf03be9f37f5",
        "colab": {
          "base_uri": "https://localhost:8080/",
          "height": 1000
        }
      },
      "source": [
        " history = model.fit(predictors, label, epochs=100, verbose=1)"
      ],
      "execution_count": 0,
      "outputs": [
        {
          "output_type": "stream",
          "text": [
            "W0815 14:33:15.235877 139754507401088 deprecation.py:323] From /usr/local/lib/python2.7/dist-packages/tensorflow/python/ops/math_grad.py:1250: where (from tensorflow.python.ops.array_ops) is deprecated and will be removed in a future version.\n",
            "Instructions for updating:\n",
            "Use tf.where in 2.0, which has the same broadcast rule as np.where\n"
          ],
          "name": "stderr"
        },
        {
          "output_type": "stream",
          "text": [
            "Epoch 1/100\n",
            "15462/15462 [==============================] - 28s 2ms/sample - loss: 6.9017 - acc: 0.0221\n",
            "Epoch 2/100\n",
            "15462/15462 [==============================] - 27s 2ms/sample - loss: 6.5140 - acc: 0.0244\n",
            "Epoch 3/100\n",
            "15462/15462 [==============================] - 26s 2ms/sample - loss: 6.4007 - acc: 0.0288\n",
            "Epoch 4/100\n",
            "15462/15462 [==============================] - 26s 2ms/sample - loss: 6.3022 - acc: 0.0336\n",
            "Epoch 5/100\n",
            "15462/15462 [==============================] - 26s 2ms/sample - loss: 6.2231 - acc: 0.0378\n",
            "Epoch 6/100\n",
            "15462/15462 [==============================] - 26s 2ms/sample - loss: 6.1315 - acc: 0.0395\n",
            "Epoch 7/100\n",
            "15462/15462 [==============================] - 26s 2ms/sample - loss: 6.0433 - acc: 0.0459\n",
            "Epoch 8/100\n",
            "15462/15462 [==============================] - 26s 2ms/sample - loss: 5.9568 - acc: 0.0479\n",
            "Epoch 9/100\n",
            "15462/15462 [==============================] - 26s 2ms/sample - loss: 5.8588 - acc: 0.0521\n",
            "Epoch 10/100\n",
            "15462/15462 [==============================] - 26s 2ms/sample - loss: 5.7634 - acc: 0.0562\n",
            "Epoch 11/100\n",
            "15462/15462 [==============================] - 26s 2ms/sample - loss: 5.6602 - acc: 0.0616\n",
            "Epoch 12/100\n",
            "15462/15462 [==============================] - 26s 2ms/sample - loss: 5.5630 - acc: 0.0675\n",
            "Epoch 13/100\n",
            "15462/15462 [==============================] - 26s 2ms/sample - loss: 5.4716 - acc: 0.0741\n",
            "Epoch 14/100\n",
            "15462/15462 [==============================] - 26s 2ms/sample - loss: 5.3793 - acc: 0.0764\n",
            "Epoch 15/100\n",
            "15462/15462 [==============================] - 26s 2ms/sample - loss: 5.2948 - acc: 0.0812\n",
            "Epoch 16/100\n",
            "15462/15462 [==============================] - 26s 2ms/sample - loss: 5.2006 - acc: 0.0868\n",
            "Epoch 17/100\n",
            "15462/15462 [==============================] - 26s 2ms/sample - loss: 5.1107 - acc: 0.0918\n",
            "Epoch 18/100\n",
            "15462/15462 [==============================] - 26s 2ms/sample - loss: 5.0202 - acc: 0.0962\n",
            "Epoch 19/100\n",
            "15462/15462 [==============================] - 26s 2ms/sample - loss: 4.9314 - acc: 0.1017\n",
            "Epoch 20/100\n",
            "15462/15462 [==============================] - 26s 2ms/sample - loss: 4.8381 - acc: 0.1095\n",
            "Epoch 21/100\n",
            "15462/15462 [==============================] - 25s 2ms/sample - loss: 4.7554 - acc: 0.1140\n",
            "Epoch 22/100\n",
            "15462/15462 [==============================] - 26s 2ms/sample - loss: 4.6641 - acc: 0.1246\n",
            "Epoch 23/100\n",
            "15462/15462 [==============================] - 25s 2ms/sample - loss: 4.5838 - acc: 0.1298\n",
            "Epoch 24/100\n",
            "15462/15462 [==============================] - 25s 2ms/sample - loss: 4.5118 - acc: 0.1364\n",
            "Epoch 25/100\n",
            "15462/15462 [==============================] - 25s 2ms/sample - loss: 4.4286 - acc: 0.1442\n",
            "Epoch 26/100\n",
            "15462/15462 [==============================] - 25s 2ms/sample - loss: 4.3586 - acc: 0.1512\n",
            "Epoch 27/100\n",
            "15462/15462 [==============================] - 25s 2ms/sample - loss: 4.2804 - acc: 0.1630\n",
            "Epoch 28/100\n",
            "15462/15462 [==============================] - 26s 2ms/sample - loss: 4.2106 - acc: 0.1742\n",
            "Epoch 29/100\n",
            "15462/15462 [==============================] - 27s 2ms/sample - loss: 4.1432 - acc: 0.1794\n",
            "Epoch 30/100\n",
            "15462/15462 [==============================] - 27s 2ms/sample - loss: 4.0746 - acc: 0.1887\n",
            "Epoch 31/100\n",
            "15462/15462 [==============================] - 26s 2ms/sample - loss: 4.0045 - acc: 0.2018\n",
            "Epoch 32/100\n",
            "15462/15462 [==============================] - 25s 2ms/sample - loss: 3.9491 - acc: 0.2079\n",
            "Epoch 33/100\n",
            "15462/15462 [==============================] - 25s 2ms/sample - loss: 3.8843 - acc: 0.2198\n",
            "Epoch 34/100\n",
            "15462/15462 [==============================] - 25s 2ms/sample - loss: 3.8231 - acc: 0.2285\n",
            "Epoch 35/100\n",
            "15462/15462 [==============================] - 25s 2ms/sample - loss: 3.7598 - acc: 0.2385\n",
            "Epoch 36/100\n",
            "15462/15462 [==============================] - 25s 2ms/sample - loss: 3.7125 - acc: 0.2482\n",
            "Epoch 37/100\n",
            "15462/15462 [==============================] - 25s 2ms/sample - loss: 3.6568 - acc: 0.2592\n",
            "Epoch 38/100\n",
            "15462/15462 [==============================] - 25s 2ms/sample - loss: 3.6074 - acc: 0.2643\n",
            "Epoch 39/100\n",
            "15462/15462 [==============================] - 25s 2ms/sample - loss: 3.5425 - acc: 0.2839\n",
            "Epoch 40/100\n",
            "15462/15462 [==============================] - 25s 2ms/sample - loss: 3.4931 - acc: 0.2938\n",
            "Epoch 41/100\n",
            "15462/15462 [==============================] - 25s 2ms/sample - loss: 3.4568 - acc: 0.2994\n",
            "Epoch 42/100\n",
            "15462/15462 [==============================] - 25s 2ms/sample - loss: 3.3954 - acc: 0.3075\n",
            "Epoch 43/100\n",
            "15462/15462 [==============================] - 25s 2ms/sample - loss: 3.3486 - acc: 0.3200\n",
            "Epoch 44/100\n",
            "15462/15462 [==============================] - 25s 2ms/sample - loss: 3.2948 - acc: 0.3322\n",
            "Epoch 45/100\n",
            "15462/15462 [==============================] - 25s 2ms/sample - loss: 3.2616 - acc: 0.3373\n",
            "Epoch 46/100\n",
            "15462/15462 [==============================] - 25s 2ms/sample - loss: 3.2079 - acc: 0.3469\n",
            "Epoch 47/100\n",
            "15462/15462 [==============================] - 25s 2ms/sample - loss: 3.1624 - acc: 0.3569\n",
            "Epoch 48/100\n",
            "15462/15462 [==============================] - 25s 2ms/sample - loss: 3.1154 - acc: 0.3682\n",
            "Epoch 49/100\n",
            "15462/15462 [==============================] - 25s 2ms/sample - loss: 3.0808 - acc: 0.3725\n",
            "Epoch 50/100\n",
            "15462/15462 [==============================] - 25s 2ms/sample - loss: 3.0446 - acc: 0.3821\n",
            "Epoch 51/100\n",
            "15462/15462 [==============================] - 25s 2ms/sample - loss: 3.0040 - acc: 0.3904\n",
            "Epoch 52/100\n",
            "15462/15462 [==============================] - 25s 2ms/sample - loss: 2.9673 - acc: 0.4009\n",
            "Epoch 53/100\n",
            "15462/15462 [==============================] - 24s 2ms/sample - loss: 2.9425 - acc: 0.4014\n",
            "Epoch 54/100\n",
            "15462/15462 [==============================] - 25s 2ms/sample - loss: 2.9152 - acc: 0.4043\n",
            "Epoch 55/100\n",
            "15462/15462 [==============================] - 25s 2ms/sample - loss: 2.8717 - acc: 0.4197\n",
            "Epoch 56/100\n",
            "15462/15462 [==============================] - 25s 2ms/sample - loss: 2.8239 - acc: 0.4258\n",
            "Epoch 57/100\n",
            "15462/15462 [==============================] - 25s 2ms/sample - loss: 2.8054 - acc: 0.4303\n",
            "Epoch 58/100\n",
            "15462/15462 [==============================] - 25s 2ms/sample - loss: 2.7813 - acc: 0.4334\n",
            "Epoch 59/100\n",
            "15462/15462 [==============================] - 25s 2ms/sample - loss: 2.7473 - acc: 0.4408\n",
            "Epoch 60/100\n",
            "15462/15462 [==============================] - 24s 2ms/sample - loss: 2.7121 - acc: 0.4440\n",
            "Epoch 61/100\n",
            "15462/15462 [==============================] - 24s 2ms/sample - loss: 2.7017 - acc: 0.4488\n",
            "Epoch 62/100\n",
            "15462/15462 [==============================] - 24s 2ms/sample - loss: 2.6695 - acc: 0.4520\n",
            "Epoch 63/100\n",
            "15462/15462 [==============================] - 24s 2ms/sample - loss: 2.6391 - acc: 0.4637\n",
            "Epoch 64/100\n",
            "15462/15462 [==============================] - 24s 2ms/sample - loss: 2.6209 - acc: 0.4716\n",
            "Epoch 65/100\n",
            "15462/15462 [==============================] - 24s 2ms/sample - loss: 2.5843 - acc: 0.4747\n",
            "Epoch 66/100\n",
            "15462/15462 [==============================] - 24s 2ms/sample - loss: 2.5639 - acc: 0.4753\n",
            "Epoch 67/100\n",
            "15462/15462 [==============================] - 24s 2ms/sample - loss: 2.5330 - acc: 0.4849\n",
            "Epoch 68/100\n",
            "15462/15462 [==============================] - 24s 2ms/sample - loss: 2.5188 - acc: 0.4826\n",
            "Epoch 69/100\n",
            "15462/15462 [==============================] - 24s 2ms/sample - loss: 2.4858 - acc: 0.4886\n",
            "Epoch 70/100\n",
            "15462/15462 [==============================] - 25s 2ms/sample - loss: 2.4720 - acc: 0.4957\n",
            "Epoch 71/100\n",
            "15462/15462 [==============================] - 24s 2ms/sample - loss: 2.4483 - acc: 0.5021\n",
            "Epoch 72/100\n",
            "15462/15462 [==============================] - 25s 2ms/sample - loss: 2.4393 - acc: 0.4976\n",
            "Epoch 73/100\n",
            "15462/15462 [==============================] - 24s 2ms/sample - loss: 2.4211 - acc: 0.5045\n",
            "Epoch 74/100\n",
            "15462/15462 [==============================] - 24s 2ms/sample - loss: 2.3946 - acc: 0.5086\n",
            "Epoch 75/100\n",
            "15462/15462 [==============================] - 24s 2ms/sample - loss: 2.3745 - acc: 0.5100\n",
            "Epoch 76/100\n",
            "15462/15462 [==============================] - 24s 2ms/sample - loss: 2.3553 - acc: 0.5164\n",
            "Epoch 77/100\n",
            "15462/15462 [==============================] - 24s 2ms/sample - loss: 2.3287 - acc: 0.5215\n",
            "Epoch 78/100\n",
            "15462/15462 [==============================] - 24s 2ms/sample - loss: 2.3169 - acc: 0.5219\n",
            "Epoch 79/100\n",
            "15462/15462 [==============================] - 24s 2ms/sample - loss: 2.3086 - acc: 0.5239\n",
            "Epoch 80/100\n",
            "15462/15462 [==============================] - 24s 2ms/sample - loss: 2.2935 - acc: 0.5290\n",
            "Epoch 81/100\n",
            "15462/15462 [==============================] - 24s 2ms/sample - loss: 2.2698 - acc: 0.5343\n",
            "Epoch 82/100\n",
            "15462/15462 [==============================] - 25s 2ms/sample - loss: 2.2515 - acc: 0.5396\n",
            "Epoch 83/100\n",
            "15462/15462 [==============================] - 24s 2ms/sample - loss: 2.2371 - acc: 0.5405\n",
            "Epoch 84/100\n",
            "15462/15462 [==============================] - 24s 2ms/sample - loss: 2.2247 - acc: 0.5461\n",
            "Epoch 85/100\n",
            "15462/15462 [==============================] - 25s 2ms/sample - loss: 2.2017 - acc: 0.5493\n",
            "Epoch 86/100\n",
            "15462/15462 [==============================] - 24s 2ms/sample - loss: 2.2057 - acc: 0.5481\n",
            "Epoch 87/100\n",
            "15462/15462 [==============================] - 24s 2ms/sample - loss: 2.1805 - acc: 0.5493\n",
            "Epoch 88/100\n",
            "15462/15462 [==============================] - 24s 2ms/sample - loss: 2.1648 - acc: 0.5556\n",
            "Epoch 89/100\n",
            "15462/15462 [==============================] - 24s 2ms/sample - loss: 2.1630 - acc: 0.5525\n",
            "Epoch 90/100\n",
            "15462/15462 [==============================] - 24s 2ms/sample - loss: 2.1430 - acc: 0.5565\n",
            "Epoch 91/100\n",
            "15462/15462 [==============================] - 24s 2ms/sample - loss: 2.1212 - acc: 0.5656\n",
            "Epoch 92/100\n",
            "15462/15462 [==============================] - 24s 2ms/sample - loss: 2.1180 - acc: 0.5618\n",
            "Epoch 93/100\n",
            "15462/15462 [==============================] - 24s 2ms/sample - loss: 2.1062 - acc: 0.5620\n",
            "Epoch 94/100\n",
            "15462/15462 [==============================] - 24s 2ms/sample - loss: 2.1124 - acc: 0.5623\n",
            "Epoch 95/100\n",
            "15462/15462 [==============================] - 24s 2ms/sample - loss: 2.0731 - acc: 0.5704\n",
            "Epoch 96/100\n",
            "15462/15462 [==============================] - 24s 2ms/sample - loss: 2.0603 - acc: 0.5732\n",
            "Epoch 97/100\n",
            "15462/15462 [==============================] - 24s 2ms/sample - loss: 2.0678 - acc: 0.5700\n",
            "Epoch 98/100\n",
            "15462/15462 [==============================] - 24s 2ms/sample - loss: 2.0554 - acc: 0.5752\n",
            "Epoch 99/100\n",
            "15462/15462 [==============================] - 24s 2ms/sample - loss: 2.0255 - acc: 0.5855\n",
            "Epoch 100/100\n",
            "15462/15462 [==============================] - 24s 2ms/sample - loss: 2.0462 - acc: 0.5764\n"
          ],
          "name": "stdout"
        }
      ]
    },
    {
      "cell_type": "code",
      "metadata": {
        "id": "1fXTEO3GJ282",
        "colab_type": "code",
        "outputId": "c1455c42-93ee-4592-8e88-dde9e5a94aa5",
        "colab": {
          "base_uri": "https://localhost:8080/",
          "height": 545
        }
      },
      "source": [
        "import matplotlib.pyplot as plt\n",
        "acc = history.history['acc']\n",
        "loss = history.history['loss']\n",
        "\n",
        "epochs = range(len(acc))\n",
        "\n",
        "plt.plot(epochs, acc, 'b', label='Training accuracy')\n",
        "plt.title('Training accuracy')\n",
        "\n",
        "plt.figure()\n",
        "\n",
        "plt.plot(epochs, loss, 'b', label='Training Loss')\n",
        "plt.title('Training loss')\n",
        "plt.legend()\n",
        "\n",
        "plt.show()"
      ],
      "execution_count": 0,
      "outputs": [
        {
          "output_type": "display_data",
          "data": {
            "image/png": "[encoded data removed]",
            "text/plain": [
              "<Figure size 432x288 with 1 Axes>"
            ]
          },
          "metadata": {
            "tags": []
          }
        },
        {
          "output_type": "display_data",
          "data": {
            "image/png": "[encoded data removed]",
            "text/plain": [
              "<Figure size 432x288 with 1 Axes>"
            ]
          },
          "metadata": {
            "tags": []
          }
        }
      ]
    },
    {
      "cell_type": "code",
      "metadata": {
        "id": "6Vc6PHgxa6Hm",
        "colab_type": "code",
        "outputId": "79f2dc5b-b7d1-4986-98a4-1c142cefb7a3",
        "colab": {
          "base_uri": "https://localhost:8080/",
          "height": 54
        }
      },
      "source": [
        "seed_text = \"Help me Obi Wan Kenobi, you're my only hope\"\n",
        "next_words = 100\n",
        "  \n",
        "for _ in range(next_words):\n",
        "\ttoken_list = tokenizer.texts_to_sequences([seed_text])[0]\n",
        "\ttoken_list = pad_sequences([token_list], maxlen=max_sequence_len-1, padding='pre')\n",
        "\tpredicted = model.predict_classes(token_list, verbose=0)\n",
        "\toutput_word = \"\"\n",
        "\tfor word, index in tokenizer.word_index.items():\n",
        "\t\tif index == predicted:\n",
        "\t\t\toutput_word = word\n",
        "\t\t\tbreak\n",
        "\tseed_text += \" \" + output_word\n",
        "print(seed_text)"
      ],
      "execution_count": 0,
      "outputs": [
        {
          "output_type": "stream",
          "text": [
            "Help me Obi Wan Kenobi, you're my only hope my pain be be alone alone that which thou thou music music been indeed deformed'st nearly dying dignified anew to spies spies sheaves flowers exchanged frailer spies behind a spring might crowned sit stand check my sweets in having thy pain too view die be know be canst thee near good lesson one brain so wrong anew clearer another youth back with back up women's broke to grow admiring tell her stain pays clearer to triumph lies must grow worse virtuous greater bars what see barren of imprison'd pride dead fashion doth something some taken thee bear amiss thee son\n"
          ],
          "name": "stdout"
        }
      ]
    }
  ]
}